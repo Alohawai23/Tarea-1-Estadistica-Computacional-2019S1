{
 "cells": [
  {
   "cell_type": "markdown",
   "metadata": {},
   "source": [
    "<img src=\"img/usmlogo.png\" style=\"float:right;height:85px\"> <img src=\"img/dilogo.png\" style=\"float:left;height:90px\">\n",
    "<center>\n",
    "    <h1> Laboratorio 1 </h1>\n",
    "    <h2> Profesor: Ricardo Ñanculef </h2>\n",
    "    <h3> Ayudante: Gabriel Ortega </h3>\n",
    "    <h4> Gianni Beninati; 20177508-2 ;Malla Nueva </h4>\n",
    "</center>\n",
    "<p>\n",
    "<center><h4>Marzo 2019</h4></center>\n",
    "</p>"
   ]
  },
  {
   "cell_type": "markdown",
   "metadata": {},
   "source": [
    "## Instrucciones\n",
    "\n",
    "\n",
    "La modalidad de trabajo será mediante el uso de jupyter notebook. El notebook debe ser desarrollado en parejas o individual. Este laboratorio debe ser entregado el día 5 de abril.\n",
    "\n",
    "La **modalidad de entrega será un archivo Apellido1_Apellido2_Lab1.zip** que contenga un notebook que incluya todas las preguntas con sus respectivas respuestas + un README que indique la forma correcta de ejecutar su notebook. Este notebook presenta ciertas preguntas marcadas con **O:** que indican que para los alumnos de malla nueva es opcional, pero obligatoria para los alumnos de malla vieja. En el caso de haber una pareja con un integrante de malla nueva y uno de malla vieja, se considera malla vieja. El laboratorio puede ser trabajado tanto en lenguaje R como en lenguaje python (para los que usen python 2.X, absténganse a las consecuencias). Lea bien el enunciado.\n",
    "\n",
    "\n",
    "**Cualquier copia detectada implicará reprobación del laboratorio con nota 0 (lo que implica reprobar el ramo con nota 0) además de la notificación correspondiente al Profesor.** \n",
    "\n",
    "**Puntos bonus para todos:** Debido a que a veces hay preguntas que les piden una conclusión utilizando ciertos elementos, si lo desea, puede agregar elementos extra para hacer una mejor conclusión o concluir algo más que tenga sentido con lo anterior; estos gráficos pueden otorgar puntos bonus dependiendo de su calidad y del comentario que lo acompañe (con un máximo de 3 puntos bonus por pregunta, no acumulables si alcanza la nota máxima)"
   ]
  },
  {
   "cell_type": "markdown",
   "metadata": {},
   "source": [
    "# 1. Sarcasmo en Reddit (30p)\n",
    "\n",
    "Reddit es una página web muy conocida que, en simples palabras, es una compilación de muchos foros llamados \"subreddits\", en esta sección trabajará con un dataset que contiene una compilación de comentarios realizados por usuarios en distintos subreddits, los que vienen con una indicación de si el comentario es sarcástico o no.\n",
    "[Fuente](https://www.kaggle.com/sherinclaudia/sarcastic-comments-on-reddit)\n",
    "\n",
    ">a) **O:** Cargue los datos y resuma brevemente que contiene el dataset"
   ]
  },
  {
   "cell_type": "markdown",
   "metadata": {},
   "source": [
    "### Código pregunta 1.a"
   ]
  },
  {
   "cell_type": "code",
   "execution_count": 9,
   "metadata": {},
   "outputs": [],
   "source": [
    "import csv\n",
    "\n",
    "#Se utiliza para evitar agregar el primer dato, pues este es la descripcion de cada columna y no es un dato como tal\n",
    "flag = False\n",
    "label = []\n",
    "comment = []\n",
    "author = []\n",
    "subreddit = []\n",
    "score = []\n",
    "ups = []\n",
    "downs = []\n",
    "date = []\n",
    "created_utc = []\n",
    "parent_comment = []\n",
    "with open('reddit.csv') as csvfile:\n",
    "    registros = csv.reader(csvfile, delimiter=',')\n",
    "    for registro in registros:\n",
    "        if flag:\n",
    "            label.append(registro[0])\n",
    "            comment.append(registro[1])\n",
    "            author.append(registro[2])\n",
    "            subreddit.append(registro[3])\n",
    "            score.append(registro[4])\n",
    "            ups.append(registro[5])\n",
    "            downs.append(registro[6])\n",
    "            date.append(registro[7])\n",
    "            created_utc.append(registro[8])\n",
    "            parent_comment.append(registro[9])\n",
    "        flag = True"
   ]
  },
  {
   "cell_type": "markdown",
   "metadata": {},
   "source": [
    "### Respuesta pregunta 1.a\n",
    "Como se mencionó el dataset contiene comentarios de la plataforma “Reddit” los cuales pueden ser divididos en las siguientes columnas:\n",
    "+ Label: Indica si un reddit es sarcastico o no (con 1 y 0 respectivamente)\n",
    "+ Comment: Muestra el comentario acerca de un reddit\n",
    "+ Author: Autor del comentario\n",
    "+ Subbreddit: Muestra el subreddit de donde se realizó el comentario\n",
    "+ Score: Número de \"Ups\" menos número de \"Downs\"\n",
    "+ Ups: Número de votos positivos\n",
    "+ Downs: Número de votos negativos\n",
    "+ Date: Fecha del comentario\n",
    "+ Created_UTC: Fecha y hora del comentario en zona horaria UTC\n",
    "+ Parent_comment: Comentario principal del cual se realizó el comentario sarcástico."
   ]
  },
  {
   "cell_type": "markdown",
   "metadata": {},
   "source": [
    ">b) ¿Existe algún subreddit donde los comentarios no sarcásticos predominen? ¿Y alguno donde predominen los comentarios sarcásticos? \n"
   ]
  },
  {
   "cell_type": "markdown",
   "metadata": {},
   "source": [
    "### Código pregunta 1.b"
   ]
  },
  {
   "cell_type": "code",
   "execution_count": 10,
   "metadata": {},
   "outputs": [],
   "source": [
    "#Diccionario con un subreddit como llave y una lista como valor que tiene en la primera posicion la cantidad de comentarios no sarcasticos de ese subreddit y en la segunda, la cantidad de comentarios sarcasticos\n",
    "subs = {} \n",
    "n = len(label)\n",
    "i = 0\n",
    "while i < n:\n",
    "    #Si ya se agrego el subreddit al diccionario, se ve si el comentario es sarcastico o no\n",
    "    if subreddit[i] in subs:\n",
    "        if label[i] == '0':\n",
    "            subs[subreddit[i]][0] += 1\n",
    "        else:\n",
    "            subs[subreddit[i]][1] += 1\n",
    "    else:\n",
    "        if label[i] == '0':\n",
    "            subs[subreddit[i]] = [1,0]\n",
    "        else:\n",
    "            subs[subreddit[i]] = [0,1]\n",
    "    i+=1"
   ]
  },
  {
   "cell_type": "code",
   "execution_count": 11,
   "metadata": {},
   "outputs": [
    {
     "name": "stdout",
     "output_type": "stream",
     "text": [
      "EL SUBREDDIT MAS SARCASTICO ES: creepyPMs CON 78.43029637760702 %  DE COMENTARIOS SARCASTICOS ( 4287 comentarios sarcasticos de 5466 comentarios totales)\n",
      "EL SUBREDDIT MENOS SARCASTICO ES: RoastMe con 90.23255813953489 %  DE COMENTARIOS NO SARCASTICOS( 63 comentarios sarcasticos de 645 comentarios totales)\n"
     ]
    }
   ],
   "source": [
    "mas_sarcastico = 0.0\n",
    "menos_sarcastico = 100.0\n",
    "sub_mas_sarcastico = ''\n",
    "sub_menos_sarcastico = ''\n",
    "#Diccionario con el subreddit como llave y con el numero \"Comentarios sarcasticos de ese subreddit/Comentarios totales del subreddit\" como valor, el cual indica el porcentaje de comentarios sarcasticos en ese subreddit\n",
    "nivel_sarcasmo = {}\n",
    "for sub in subs:\n",
    "    #PARA QUE EL SUBREDDIT SEA MAS REPRESENTATIVO SE PIDE QUE TENGA AL MENOS 600 COMENTARIOS\n",
    "    if (subs[sub][1]+subs[sub][0]) >= 600:\n",
    "        nivel_sarcasmo[sub] = float(subs[sub][1]/(subs[sub][1]+subs[sub][0]))\n",
    "#Se busca el subreddit mas y menos sarcastico con respecto al porcentaje de comentarios sarcasticos y no sarcasticos en ese subreddit\n",
    "for sub in nivel_sarcasmo:\n",
    "    if nivel_sarcasmo[sub] > mas_sarcastico:\n",
    "        mas_sarcastico = nivel_sarcasmo[sub]\n",
    "        sub_mas_sarcastico = sub\n",
    "    if nivel_sarcasmo[sub] < menos_sarcastico:\n",
    "        menos_sarcastico = nivel_sarcasmo[sub]\n",
    "        sub_menos_sarcastico = sub\n",
    "print(\"EL SUBREDDIT MAS SARCASTICO ES:\", sub_mas_sarcastico, \"CON\", mas_sarcastico*100, \"%  DE COMENTARIOS SARCASTICOS (\", subs[sub_mas_sarcastico][1],\"comentarios sarcasticos de\",subs[sub_mas_sarcastico][1]+subs[sub_mas_sarcastico][0],\"comentarios totales)\")\n",
    "print(\"EL SUBREDDIT MENOS SARCASTICO ES:\", sub_menos_sarcastico, \"con\", 100-menos_sarcastico*100, \"%  DE COMENTARIOS NO SARCASTICOS(\", subs[sub_menos_sarcastico][1],\"comentarios sarcasticos de\",subs[sub_menos_sarcastico][1]+subs[sub_menos_sarcastico][0],\"comentarios totales)\")"
   ]
  },
  {
   "cell_type": "markdown",
   "metadata": {},
   "source": [
    "### Respuesta pregunta 1.b\n",
    "Para obtener el subreddit menos y más sarcástico, se creó primero un diccionario subs, el cual sería de la forma {Nombre_Subreddit:[Numero_Comentarios_NoSarcasticos,Numero_Comentarios_Sarcasticos]}, es decir, se guardaría para cada subreddit la cantidad de comentarios sarcásticos y no sarcásticos. Luego se creó el diccionario nivel_sarcasmo, el cual guardaría el porcentaje de sarcasmo de cada subreddit. Cabe destacar que para que se considerara el porcentaje del subreddit se agregó la condición de que tuviera al menos 600 comentarios, y así, de esta forma seria más representativo con respecto a toda la muestra, pues de no agregar esta condicion, los subbredits con menor y mayor sarcasmo respectivamente eran \"HaircareScience\" con 0% de comentarios sarcásticos de un total de 4 comentarios y \"mildyinfuriating\" con 100% de comentarios sarcásticos de un total de 3 comentarios, en donde 3 o 4 comentarios, no era representativo dentro del millón de comentarios que existían en la muestra. Por lo tanto, al agregar esa condición, se obtuvieron los siguientes resultados:\n",
    "* Si existe un subreddit en que los comentarios no sarcásticos predominen y este corresponde a \"RoastMe\" con 90.23255813953489% de comentarios no sarcásticos (582 comentarios no sarcásticos de 645 comentarios totales)\n",
    "* Si existe un subreddit en que los comentarios sarcásticos predominen y este corresponde a \"creepyPMs\" con 78.43029637760702% de comentarios sarcásticos ( 4287 comentarios sarcásticos de 5466 comentarios totales)"
   ]
  },
  {
   "cell_type": "markdown",
   "metadata": {},
   "source": [
    ">c) Realice un top 10 con los subreddits que más se repiten en la etiqueta sin sarcasmo y un top 10 de los que más se repiten en la etiqueta con sarcasmo. ¿Existen similitudes/diferencias en ambas listas? ¿A qué se puede deber esto?"
   ]
  },
  {
   "cell_type": "markdown",
   "metadata": {},
   "source": [
    "### Código pregunta 1.c"
   ]
  },
  {
   "cell_type": "code",
   "execution_count": 12,
   "metadata": {},
   "outputs": [
    {
     "name": "stdout",
     "output_type": "stream",
     "text": [
      "LISTA 1\n",
      "Los 10 subreddits MENOS sarcasticos son:\n",
      "1 -AskReddit\n",
      "2 -politics\n",
      "3 -funny\n",
      "4 -leagueoflegends\n",
      "5 -worldnews\n",
      "6 -pics\n",
      "7 -pcmasterrace\n",
      "8 -nfl\n",
      "9 -news\n",
      "10 -nba\n",
      "\n",
      "LISTA 2\n",
      "Los 10 subreddits MAS sarcasticos son:\n",
      "1 -AskReddit\n",
      "2 -politics\n",
      "3 -worldnews\n",
      "4 -leagueoflegends\n",
      "5 -pcmasterrace\n",
      "6 -news\n",
      "7 -funny\n",
      "8 -pics\n",
      "9 -todayilearned\n",
      "10 -GlobalOffensive\n"
     ]
    }
   ],
   "source": [
    "#Listas que guardaran los subreddits ordenados por comentarios con etiqueta de sarcasmo o no sarcasmo\n",
    "subreddits_mas_sarcasticos = []\n",
    "subreddits_menos_sarcasticos = []\n",
    "i = 0\n",
    "\n",
    "for sub in subs.items():\n",
    "    #Utilizando el diccionario sub de la pregunta anterior, se agrega a la lista mas_sarcasticos la tupla (Numero_Comentarios_Sarcasticos,Nombre_Subreddit)\n",
    "    subreddits_mas_sarcasticos.append((sub[1][1],sub[0]))\n",
    "    #Utilizando el diccionario sub de la pregunta anterior, se agrega a la lista menos_sarcasticos la tupla (Numero_Comentarios_NOSarcasticos,Nombre_Subreddit)\n",
    "    subreddits_menos_sarcasticos.append((sub[1][0],sub[0]))\n",
    "#Se ordenan ambas listas de mayor a menor\n",
    "subreddits_mas_sarcasticos.sort(reverse = True)\n",
    "subreddits_menos_sarcasticos.sort(reverse = True)\n",
    "\n",
    "print(\"LISTA 1\")\n",
    "print(\"Los 10 subreddits MENOS sarcasticos son:\")\n",
    "while(i < 10):\n",
    "    print(i+1,\"-\" + subreddits_menos_sarcasticos[i][1])\n",
    "    i+=1\n",
    "i = 0\n",
    "print(\"\\nLISTA 2\")\n",
    "print(\"Los 10 subreddits MAS sarcasticos son:\")\n",
    "while(i < 10):\n",
    "    print(i+1,\"-\" + subreddits_mas_sarcasticos[i][1])\n",
    "    i+=1\n"
   ]
  },
  {
   "cell_type": "code",
   "execution_count": 13,
   "metadata": {},
   "outputs": [
    {
     "name": "stdout",
     "output_type": "stream",
     "text": [
      "LISTA 3\n",
      "Los 10 subreddits MAS POPULARES son:\n",
      "1 -AskReddit\n",
      "El subreddit tiene: 65677 comentarios totales\n",
      "\n",
      "2 -politics\n",
      "El subreddit tiene: 39496 comentarios totales\n",
      "\n",
      "3 -worldnews\n",
      "El subreddit tiene: 26377 comentarios totales\n",
      "\n",
      "4 -leagueoflegends\n",
      "El subreddit tiene: 21037 comentarios totales\n",
      "\n",
      "5 -pcmasterrace\n",
      "El subreddit tiene: 18988 comentarios totales\n",
      "\n",
      "6 -funny\n",
      "El subreddit tiene: 16891 comentarios totales\n",
      "\n",
      "7 -news\n",
      "El subreddit tiene: 17939 comentarios totales\n",
      "\n",
      "8 -pics\n",
      "El subreddit tiene: 16154 comentarios totales\n",
      "\n",
      "9 -todayilearned\n",
      "El subreddit tiene: 14161 comentarios totales\n",
      "\n",
      "10 -nfl\n",
      "El subreddit tiene: 13740 comentarios totales\n",
      "\n"
     ]
    }
   ],
   "source": [
    "#Para realizar una mejor conclusion, se creara una tercera lista que contendra los 10 subreddits con mas comentarios\n",
    "mas_populares = []\n",
    "i = 0\n",
    "for sub in subs.items():\n",
    "    mas_populares.append((sub[1][0]+sub[1][1],sub[0]))\n",
    "mas_populares.sort(reverse = True)\n",
    "print(\"LISTA 3\")\n",
    "print(\"Los 10 subreddits MAS POPULARES son:\")\n",
    "while(i < 10):\n",
    "    print(i+1,\"-\" + mas_populares[i][1])\n",
    "    print(\"El subreddit tiene:\",subs[subreddits_mas_sarcasticos[i][1]][0]+subs[subreddits_mas_sarcasticos[i][1]][1],\"comentarios totales\\n\")\n",
    "    i+=1"
   ]
  },
  {
   "cell_type": "markdown",
   "metadata": {},
   "source": [
    "### Respuesta pregunta 1.b\n",
    "\n",
    "Para obtener los resultados, se crearon 2 listas, una que guardaría la tupla (Numero_Comentarios_Sarcasticos,Nombre_Subreddit) y otra similar, pero que guardaría el número de comentarios no sarcásticos. Finalmente se ordenaron ambas listas de mayor a menor obteniendo lo siguiente:\n",
    "#### LISTA 1\n",
    "Los 10 subreddits MENOS sarcástico son:\n",
    "1. AskReddit\n",
    "2. politics\n",
    "3. funny\n",
    "4. leagueoflegends\n",
    "5. worldnews\n",
    "6. pics\n",
    "7. pcmasterrace\n",
    "8. nfl\n",
    "9. news\n",
    "10. nba\n",
    "\n",
    "#### LISTA 2\n",
    "Los 10 subreddits MAS sarcásticos son:\n",
    "1. AskReddit\n",
    "2. politics\n",
    "3. worldnews\n",
    "4. leagueoflegends\n",
    "5. pcmasterrace\n",
    "6. news\n",
    "7. funny\n",
    "8. pics\n",
    "9. todayilearned\n",
    "10. GlobalOffensive\n",
    "\n",
    "Para obtener una mejor conclusión se creó una tercera lista la cual contiene los 10 subreddits con mayor cantidad comentarios, es decir, los 10 mas populares:\n",
    "#### LISTA 3\n",
    "Los 10 subreddits MAS POPULARES son:\n",
    "1. AskReddit  (El subreddit tiene: 65677 comentarios totales)\n",
    "2. politics  (El subreddit tiene: 39496 comentarios totales)\n",
    "3. worldnews  (El subreddit tiene: 26377 comentarios totales)\n",
    "4. leagueoflegends  (El subreddit tiene: 21037 comentarios totales)\n",
    "5. pcmasterrace  (El subreddit tiene: 18988 comentarios totales)\n",
    "6. funny  (El subreddit tiene: 16891 comentarios totales)\n",
    "7. news  (El subreddit tiene: 17939 comentarios totales)\n",
    "8. pics  (El subreddit tiene: 16154 comentarios totales)\n",
    "9. todayilearned  (El subreddit tiene: 14161 comentarios totales)\n",
    "10. nfl  (El subreddit tiene: 13740 comentarios totales)\n",
    "\n",
    "En ambas listas (1 y 2) existen grandes similitudes en los subreddits que aparecen, pues \"AskReddit\", \"politics\", \"funny\", \"leagueoflegends\",\"worldnews\", \"pics\", \"pcmasterrace\" y \"news\" se encuentran tanto en la primera lista como en la segunda y en el caso de \"AskReddit\", \"politics\" y \"leagueoflegends\" se comparten posiciones iguales dentro del top 10. Una posible explicación a lo ocurrido, es que, sin importar si la etiqueta es de sarcasmo o no, los subreddits presentes en el top corresponden también a los más populares con respecto a la cantidad de comentarios totales (se puede apreciar en la lista 3), y al buscar los subreddits en donde más se repita una de las etiquetas, claramente aparecerán aquellos que tiene más comentarios totales, pues, no importa si tienen un bajo porcentaje de sarcasmo o no sarcasmo, este pequeño porcentaje continua siendo mayor a la cantidad de comentarios totales del resto de los subreddits. Por ejemplo, \"AskReddit\" tiene aproximadamente 65000 comentarios, y en el caso hipotético de que el 30% de sus comentarios fueran sarcásticos, tendría 19500 comentarios sarcásticos, lo que es incluso mayor que la cantidad de comentarios totales del top 5 de subreddits más populares, es decir, que \"AskReddit\", no siendo tan sarcástico, logra superar a la mayoría de los subreddits. Por otra parte, en cuanto aquellos subreddits que compartieron posiciones tanto en la LISTA 1 como en la LISTA 2, esto puede significar que tienen una cantidad parecida de comentarios sarcásticos con los no sarcásticos.\n"
   ]
  },
  {
   "cell_type": "markdown",
   "metadata": {},
   "source": [
    ">d) Construya una línea de tiempo (use la columna que estime más conveniente como eje de tiempo) y coloree los datos según su etiqueta de sarcasmo, comente lo que observa.\n",
    "\n",
    "*Consejo: puede agrupar comentarios y contar el total que se registra en ese momento del tiempo en vez de graficar cada comentario en la línea.*"
   ]
  },
  {
   "cell_type": "markdown",
   "metadata": {},
   "source": [
    "### Código pregunta 1.c"
   ]
  },
  {
   "cell_type": "code",
   "execution_count": 14,
   "metadata": {},
   "outputs": [],
   "source": [
    "#Diccionario de fechas el cual guardara la fecha como llave y una lista con la cantidad de comentarios sarcasticos y no sarcasticos como valor\n",
    "fechas = {}\n",
    "i = 0\n",
    "while i < n:\n",
    "    #Si ya se agrego la fecha al diccionario, se ve si el comentario es sarcastico o no\n",
    "    if date[i] in fechas:\n",
    "        if label[i] == '0':\n",
    "            fechas[date[i]][0] += 1\n",
    "        else:\n",
    "            fechas[date[i]][1] += 1\n",
    "    else:\n",
    "        if label[i] == '0':\n",
    "            fechas[date[i]] = [1,0]\n",
    "        else:\n",
    "            fechas[date[i]] = [0,1]\n",
    "    i+=1"
   ]
  },
  {
   "cell_type": "code",
   "execution_count": 15,
   "metadata": {},
   "outputs": [
    {
     "data": {
      "image/png": "[encoded data removed]",
      "text/plain": [
       "<Figure size 432x288 with 1 Axes>"
      ]
     },
     "metadata": {
      "needs_background": "light"
     },
     "output_type": "display_data"
    },
    {
     "data": {
      "image/png": "[encoded data removed]",
      "text/plain": [
       "<Figure size 432x288 with 1 Axes>"
      ]
     },
     "metadata": {
      "needs_background": "light"
     },
     "output_type": "display_data"
    }
   ],
   "source": [
    "import matplotlib.dates as mdates\n",
    "\n",
    "#Lista que guardara las fechas\n",
    "sarcasmo_x = []\n",
    "#Lista que guardara la cantidad de comentarios sarcasticos\n",
    "cantidad_comentarios_sarc = []\n",
    "#Lista que guardara la cantidad de comentarios no sarcasticos\n",
    "cantidad_comentarios_Nosarc = []\n",
    "#Lista que guardara el porcentaje de comentarios sarcasticos\n",
    "sarcasmo_y = []\n",
    "\n",
    "for i in fechas:\n",
    "    sarcasmo_x.append(i)\n",
    "sarcasmo_x.sort()\n",
    "for j in sarcasmo_x:\n",
    "    sarcasmo_y.append(100*fechas[j][1]/sum(fechas[j]))\n",
    "    cantidad_comentarios_sarc.append(fechas[j][1])\n",
    "    cantidad_comentarios_Nosarc.append(fechas[j][0])\n",
    "\n",
    "#Se crea una nueva lista con el formato necesario para crear el grafico\n",
    "eje_x = mdates.datestr2num(sarcasmo_x)\n",
    "\n",
    "#Se crean los graficos\n",
    "plt.plot_date(eje_x, cantidad_comentarios_sarc,'b-', label = 'Comenterios Sarcasticos')\n",
    "plt.plot_date(eje_x, cantidad_comentarios_Nosarc,'r-', label = 'Comenterios No Sarcasticos')\n",
    "plt.xlabel('Fecha')\n",
    "plt.ylabel('Cantidad de comentarios')\n",
    "plt.title('Cantidad de Comentarios Sarcaticos Vs No Sarcasticos (Grafico 1)')\n",
    "plt.legend()\n",
    "plt.show()\n",
    "\n",
    "plt.plot_date(eje_x, sarcasmo_y,'b-')\n",
    "plt.xlabel('Fecha')\n",
    "plt.ylabel('% de comentarios sarasticos')\n",
    "plt.title('% Comentarios Sarcaticos por mes (Grafico 2)')\n",
    "plt.show()\n"
   ]
  },
  {
   "cell_type": "markdown",
   "metadata": {},
   "source": [
    "### Respuesta pregunta 1.d\n",
    "Para realizar la línea del tiempo (Grafico 1) se consideró las fechas de la columna “date”, y lo que se hizo fue agrupar los comentarios por mes, para luego contar cuantos comentarios sarcásticos y no sarcásticos existían en cada mes. Finalmente se realizo el “Grafico 1” con “Cantidad de comentarios” en el eje Y, y “Fecha” en el eje X, en donde la curva azul representa la cantidad de comentarios sarcásticos, y la roja, la cantidad de comentarios no sarcásticos. Si se realiza un análisis de este gráfico, se observa casi un aumento exponencial en la cantidad de comentarios totales dentro de la plataforma Reddit, en donde, desde el año 2010 hasta finales del año 2015, existe una mayor cantidad de comentarios sarcásticos con respecto a los no sarcásticos, aunque esta diferencia es relativamente pequeña. Aun así, a mediados del 2016 esta diferencia comenzó a hacerse más significativa, aumentando mucho más los comentarios no sarcásticos. \n",
    "Con la finalidad de obtener una mejor conclusión, se creó un segundo gráfico, el cual muestra cómo se comportó el porcentaje de comentarios sarcásticos por mes en el tiempo. Vemos que, en un comienzo, existía un alto nivel de sarcasmo, pues el 69% aproximadamente de los comentarios de los primeros meses eran sarcásticos, pero este porcentaje fue disminuyendo significativamente en el transcurso del tiempo. Anteriormente se menciono que a finales del 2015 la cantidad de comentarios no sarcásticos supero a la de comentarios sarcásticos, y que en 2016 la diferencia entre ambos aumentó mucho más. Esto también se ve reflejado en este gráfico, en donde a partir del 2015 la pendiente se hizo más pronunciada en comparación al resto del grafico."
   ]
  },
  {
   "cell_type": "markdown",
   "metadata": {},
   "source": [
    ">e) Haga un histograma y boxplot de los puntajes de comentarios sarcásticos y no sarcásticos, comparelos y concluya a partir de lo que observa, puede agregar otro tipo de gráficos si desea para apoyar su conclusión."
   ]
  },
  {
   "cell_type": "markdown",
   "metadata": {},
   "source": [
    "### Código pregunta 1.e"
   ]
  },
  {
   "cell_type": "code",
   "execution_count": 16,
   "metadata": {
    "scrolled": true
   },
   "outputs": [
    {
     "data": {
      "image/png": "[encoded data removed]",
      "text/plain": [
       "<Figure size 432x288 with 1 Axes>"
      ]
     },
     "metadata": {
      "needs_background": "light"
     },
     "output_type": "display_data"
    },
    {
     "data": {
      "image/png": "[encoded data removed]",
      "text/plain": [
       "<Figure size 432x288 with 1 Axes>"
      ]
     },
     "metadata": {
      "needs_background": "light"
     },
     "output_type": "display_data"
    },
    {
     "data": {
      "image/png": "[encoded data removed]",
      "text/plain": [
       "<Figure size 432x288 with 1 Axes>"
      ]
     },
     "metadata": {
      "needs_background": "light"
     },
     "output_type": "display_data"
    },
    {
     "data": {
      "image/png": "[encoded data removed]",
      "text/plain": [
       "<Figure size 432x288 with 1 Axes>"
      ]
     },
     "metadata": {
      "needs_background": "light"
     },
     "output_type": "display_data"
    },
    {
     "data": {
      "image/png": "[encoded data removed]",
      "text/plain": [
       "<Figure size 432x288 with 1 Axes>"
      ]
     },
     "metadata": {
      "needs_background": "light"
     },
     "output_type": "display_data"
    }
   ],
   "source": [
    "import matplotlib.pyplot as plt\n",
    "import numpy as np\n",
    "\n",
    "#Se crea una lista para comentarios sarcasticos y no sarcasticos con todos sus puntajes\n",
    "puntaje_sarcasticos = []\n",
    "puntaje_Nosarcasticos = []\n",
    "#El k se calculo utilizando el criterio de Sturges, y sera utilizado para crear el histograma\n",
    "i = 0\n",
    "while i < n:\n",
    "    if label[i] == '0':\n",
    "        puntaje_Nosarcasticos.append(int(score[i]))\n",
    "    else:\n",
    "         puntaje_sarcasticos.append(int(score[i]))\n",
    "    i+=1\n",
    "\n",
    "#Se crean los histogramas y los boxplots\n",
    "plt.hist(puntaje_Nosarcasticos, bins = 21, rwidth=.9, color='red')\n",
    "plt.title('Puntaje Comentarios No Sarcasticos  (Grafico 1)')\n",
    "plt.xlabel('Puntaje')\n",
    "plt.ylabel('Cantidad de comentarios')\n",
    "plt.show()\n",
    "\n",
    "\n",
    "plt.hist(puntaje_sarcasticos, bins = 21, rwidth=.9,)\n",
    "plt.title('Puntaje Comentarios Sarcasticos  (Grafico 2)')\n",
    "plt.xlabel('Puntaje')\n",
    "plt.ylabel('Cantidad de comentarios')\n",
    "plt.show()\n",
    "\n",
    "plt.boxplot(puntaje_Nosarcasticos)\n",
    "plt.title('Puntaje Comentarios No Sarcasticos (Grafico 3)')\n",
    "plt.show()\n",
    "\n",
    "plt.boxplot(puntaje_sarcasticos)\n",
    "plt.title('Puntaje Comentarios Sarcasticos  (Grafico 5)')\n",
    "plt.show()\n",
    "\n",
    "plt.boxplot([puntaje_Nosarcasticos,puntaje_sarcasticos])\n",
    "plt.xlabel('1: Comentarios No Sarcasticos\\n2:Comentarios Sarcaticos')\n",
    "plt.title('Comparacion ambos graficos  (Grafico 6)')\n",
    "plt.show()"
   ]
  },
  {
   "cell_type": "code",
   "execution_count": 17,
   "metadata": {},
   "outputs": [
    {
     "data": {
      "image/png": "[encoded data removed]",
      "text/plain": [
       "<Figure size 432x288 with 1 Axes>"
      ]
     },
     "metadata": {
      "needs_background": "light"
     },
     "output_type": "display_data"
    },
    {
     "data": {
      "image/png": "[encoded data removed]",
      "text/plain": [
       "<Figure size 432x288 with 1 Axes>"
      ]
     },
     "metadata": {
      "needs_background": "light"
     },
     "output_type": "display_data"
    },
    {
     "data": {
      "image/png": "[encoded data removed]",
      "text/plain": [
       "<Figure size 432x288 with 1 Axes>"
      ]
     },
     "metadata": {
      "needs_background": "light"
     },
     "output_type": "display_data"
    },
    {
     "data": {
      "image/png": "[encoded data removed]",
      "text/plain": [
       "<Figure size 432x288 with 1 Axes>"
      ]
     },
     "metadata": {
      "needs_background": "light"
     },
     "output_type": "display_data"
    },
    {
     "data": {
      "image/png": "[encoded data removed]",
      "text/plain": [
       "<Figure size 432x288 with 1 Axes>"
      ]
     },
     "metadata": {
      "needs_background": "light"
     },
     "output_type": "display_data"
    },
    {
     "data": {
      "image/png": "[encoded data removed]",
      "text/plain": [
       "<Figure size 432x288 with 1 Axes>"
      ]
     },
     "metadata": {
      "needs_background": "light"
     },
     "output_type": "display_data"
    }
   ],
   "source": [
    "#Con el fin de obtener graficos mas representativos, se crearon nuevos,  ignorando el 2,5% de los datos inferiores y el 2,5% de los datos superiores\n",
    "puntaje_Nosarcasticos.sort()\n",
    "puntaje_sarcasticos.sort()\n",
    "#Indica cuantos comentarios corresponden al 2,5% de los comentarios no sarcasticos\n",
    "intervalo1 = int(len(puntaje_Nosarcasticos)*0.025)\n",
    "#Indica cuantos comentarios corresponden al 2,5% de los comentarios sarcasticos\n",
    "intervalo2 = int(len(puntaje_sarcasticos)*0.025)\n",
    "\n",
    "#Se crean nuevas listas, ignorando el 2,5% de los datos inferiores y el 2,5% de los datos superiores\n",
    "puntaje_Nosarcasticos2 = puntaje_Nosarcasticos[intervalo1:len(puntaje_Nosarcasticos)-intervalo1]\n",
    "puntaje_sarcasticos2 = puntaje_sarcasticos[intervalo2:len(puntaje_sarcasticos)-intervalo2]\n",
    "\n",
    "#Se crean los mismos graficos, pero en este caso se ignoran el 2,5% de los datos inferiores y el 2,5% de los datos superiores\n",
    "plt.hist(puntaje_Nosarcasticos2, bins=20, rwidth=.9, color='red')\n",
    "plt.title('Puntaje Comentarios No Sarcasticos  (Grafico 7)')\n",
    "plt.xlabel('Puntaje')\n",
    "plt.ylabel('Cantidad de comentarios')\n",
    "plt.show()\n",
    "\n",
    "plt.hist(puntaje_sarcasticos2, bins = 20, rwidth=.9)\n",
    "plt.title('Puntaje Comentarios Sarcasticos  (Grafico 8)')\n",
    "plt.xlabel('Puntaje')\n",
    "plt.ylabel('Cantidad de comentarios')\n",
    "plt.show()\n",
    "\n",
    "plt.boxplot(puntaje_Nosarcasticos2, sym='.')\n",
    "plt.title('Puntaje Comentarios No Sarcasticos  (Grafico 9)')\n",
    "plt.show()\n",
    "\n",
    "plt.boxplot(puntaje_sarcasticos2,sym='.')\n",
    "plt.title('Puntaje Comentarios Sarcasticos  (Grafico 10)')\n",
    "plt.show()\n",
    "\n",
    "plt.boxplot([puntaje_Nosarcasticos2,puntaje_sarcasticos2],sym='.')\n",
    "plt.title('Comparacion ambos graficos  (Grafico 11)')\n",
    "plt.xlabel('1: Comentarios No Sarcasticos\\n2:Comentarios Sarcaticos')\n",
    "plt.show()\n",
    "\n",
    "plt.boxplot([puntaje_Nosarcasticos2,puntaje_sarcasticos2],sym='')\n",
    "plt.title('Comparacion ambos graficos Sin Outliers  (Grafico 11.2)')\n",
    "plt.xlabel('1: Comentarios No Sarcasticos\\n2:Comentarios Sarcaticos')\n",
    "plt.show()\n"
   ]
  },
  {
   "cell_type": "markdown",
   "metadata": {},
   "source": [
    "### Respuesta pregunta 1.e\n",
    "Tras realizar los primeros gráficos, se notó tanto en el histograma como en el grafico de cajón con bigote que la gran mayoría de los datos se concentraba en puntajes entre -10 y 50, es decir, como se puede apreciar en el grafico 1 y 2, se obtenía una sola barra visible que contenía aproximadamente el 90% de los datos, mientras que el resto de las barras que contenían puntajes mayores, al ser tan pequeñas la cantidad de sus datos, simplemente eran inapreciables. Lo mismo ocurrió en el grafico de cajón con bigote, en donde, el 50% se encontraba principalmente en puntajes entre 1 y 4, y puntajes mayores a 8 correspondían a outliers, pero al ser estos puntajes mucho mayores, provocaba un gráfico poco analizable. Una explicación al porque existen puntajes muy grandes que se escapan del resto es debido a que en las redes sociales existen unos pocos usuarios que tienen muchos seguidores y son muy apoyados, como por ejemplo, las celebridades, y estos usuarios al comentar algo, tendrán mucho más  apoyo que un usuario ordinario, lo que se traduce en puntajes excesivamente mas altos que el resto y como se mencionó, son pocos los usuarios con mucha popularidad, esto significa, que existirán pocos comentarios con mucho puntaje y la mayoría de comentarios serán de usuarios ordinarios con puntajes ordinarios.\n",
    "Por lo tanto, con el fin de mejorar los gráficos, se ignoró el 2,5% de los datos inferiores y el 2,5% de los datos superiores, en otras palabras, aquella minoría que no era representativa de la muestra y así se obtuvieron los gráficos 7, 8, 9, 10, y 11 que representan de mejor manera la datos.\n",
    "Si se analizan los histogramas (gráficos 7 y 8), es posible notar que, en ambos, la moda de puntajes en comentarios no sarcásticos y sarcásticos se encuentra entre 0 y 2, con aproximadamente 275.000 comentarios no sarcásticos y con 185.000 comentarios sarcásticos. Por otro lado, en comentarios sarcásticos existe una segunda moda correspondiente a puntajes entre 2 y 4 con aproximadamente 140.000 comentarios, es decir, los comentarios sarcásticos tienden a tener ligeramente mayor puntaje que los no sarcásticos.\n",
    "En cuanto a los gráficos de cajón con bigote (gráficos 9 y 10), se aprecia que ambos gráficos son prácticamente similares, incluso colocando uno al lado del otro (grafico 11), resulta muy difícil notar las diferencias, lo que significa que los comentarios no sarcásticos y sarcásticos se comportan de manera similar en cuanto al puntaje se refiere, teniendo en cuenta además que ambas muestras tienen aproximadamente la misma cantidad de datos.\n",
    "En cuanto a los gráficos de cajón con bigote (gráficos 9 y 10), se aprecia que ambos gráficos son prácticamente similares, incluso colocando uno al lado del otro (grafico 11), resulta muy difícil notar las diferencias, lo que significa que los comentarios no sarcásticos y sarcásticos se comportan de manera similar en cuanto al puntaje se refiere, teniendo en cuenta además que ambas muestras tienen aproximadamente la misma cantidad de datos. Con el fin de obtener una mejor visualización, se creó el gráfico 11.2, el cual contiene la misma información que el gráfico 11, pero ignorando los outlayers. Por lo tanto, si se realiza un análisis de este, notaremos que el 25% de los comentarios tienen un puntaje aproximadamente menor a 1, luego, el 50% de los comentarios tienen un puntaje menor a 2, y un 25% de los comentarios totales tienen puntaje entre 1 y 2. El otro 50% de los comentarios tienen un puntaje mayor a 2, en donde, un 25% de los comentarios totales se encuentran con puntajes entre 2 y 4 y el otro 25% tienen puntajes mayores a 4. Finalmente, el 50% de comentarios tienen puntaje aproximado entre 1 y 4."
   ]
  },
  {
   "cell_type": "markdown",
   "metadata": {},
   "source": [
    "## 2. Simulaciones \n",
    "\n",
    "Una de las gracias de tener una máquina con alta capacidad de cómputo es el poder realizar simulaciones. Las simulaciones nos permiten recrear experimentos que requieren una gran cantidad de datos, por ejemplo, lanzar un dado 10000 veces y determinar las probabilidades de cada resultado posible.\n",
    "\n",
    "\n",
    "### 2.1 Lanzamiento de Agujas (30p)\n",
    "\n",
    "Imagine que tiene un puñado de agujas ($n$ agujas) y las lanza al aire, estas agujas caen aleatoriamente dentro de un espacio de 20x20 unidades (asuma que la aguja puede quedar con una parte afuera y otra adentro si cae en alguno de los bordes/cerca de un borde de este espacio), este espacio tiene líneas horizontales cada 1 unidad en el eje Y, obviando los bordes inferior y superior de este espacio, usted está interesado en determinar la probabilidad de que una aguja atraviese cualquiera de estas líneas horizontales, para ello ha decidido simular este experimento utilizando el centroide de la aguja (posición donde cae) y el ángulo medido respecto a la horizontal que atraviesa el centroide $\\alpha$ (ver imagen)\n",
    "\n",
    "<img src=\"img/aguja.png\" style=\"float:center;height:100px\">\n",
    "\n",
    "El largo de la aguja es el mismo que la separación entre las lineas horizontales (1 unidad)\n",
    "\n",
    "\n",
    "Calcule la probabilidad utilizando $n =10,100,1000,10000,100000$ agujas\n",
    "\n",
    "Puntos bonus por :\n",
    "* (5) Probar con tamaños distintos del espacio y concluir comparando con los otros casos\n",
    "* (5) Añadir 1 gráfico por cada $n$ donde se vea el espacio y las agujas después de caer, recuerde hacer un comentario respecto al gráfico, no solo incluirlo."
   ]
  },
  {
   "cell_type": "markdown",
   "metadata": {},
   "source": [
    "### Código pregunta 2"
   ]
  },
  {
   "cell_type": "code",
   "execution_count": 3,
   "metadata": {},
   "outputs": [
    {
     "name": "stdout",
     "output_type": "stream",
     "text": [
      "Si el experimento se realiza 5 veces se obtienen los siguientes resultados\n",
      "EXPERIMENTO 1\n",
      "La probabilidad de que una aguja atraviese una linea horizontal con el lanzamiento de 10 agujas es: 0.7\n",
      "La probabilidad de que una aguja atraviese una linea horizontal con el lanzamiento de 100 agujas es: 0.67\n",
      "La probabilidad de que una aguja atraviese una linea horizontal con el lanzamiento de 1000 agujas es: 0.64\n",
      "La probabilidad de que una aguja atraviese una linea horizontal con el lanzamiento de 10000 agujas es: 0.6272\n",
      "La probabilidad de que una aguja atraviese una linea horizontal con el lanzamiento de 100000 agujas es: 0.63648\n",
      "EXPERIMENTO 2\n",
      "La probabilidad de que una aguja atraviese una linea horizontal con el lanzamiento de 10 agujas es: 0.4\n",
      "La probabilidad de que una aguja atraviese una linea horizontal con el lanzamiento de 100 agujas es: 0.59\n",
      "La probabilidad de que una aguja atraviese una linea horizontal con el lanzamiento de 1000 agujas es: 0.629\n",
      "La probabilidad de que una aguja atraviese una linea horizontal con el lanzamiento de 10000 agujas es: 0.6423\n",
      "La probabilidad de que una aguja atraviese una linea horizontal con el lanzamiento de 100000 agujas es: 0.63619\n",
      "EXPERIMENTO 3\n",
      "La probabilidad de que una aguja atraviese una linea horizontal con el lanzamiento de 10 agujas es: 0.7\n",
      "La probabilidad de que una aguja atraviese una linea horizontal con el lanzamiento de 100 agujas es: 0.64\n",
      "La probabilidad de que una aguja atraviese una linea horizontal con el lanzamiento de 1000 agujas es: 0.641\n",
      "La probabilidad de que una aguja atraviese una linea horizontal con el lanzamiento de 10000 agujas es: 0.6375\n",
      "La probabilidad de que una aguja atraviese una linea horizontal con el lanzamiento de 100000 agujas es: 0.63361\n",
      "EXPERIMENTO 4\n",
      "La probabilidad de que una aguja atraviese una linea horizontal con el lanzamiento de 10 agujas es: 0.5\n",
      "La probabilidad de que una aguja atraviese una linea horizontal con el lanzamiento de 100 agujas es: 0.67\n",
      "La probabilidad de que una aguja atraviese una linea horizontal con el lanzamiento de 1000 agujas es: 0.638\n",
      "La probabilidad de que una aguja atraviese una linea horizontal con el lanzamiento de 10000 agujas es: 0.6357\n",
      "La probabilidad de que una aguja atraviese una linea horizontal con el lanzamiento de 100000 agujas es: 0.6352\n",
      "EXPERIMENTO 5\n",
      "La probabilidad de que una aguja atraviese una linea horizontal con el lanzamiento de 10 agujas es: 0.9\n",
      "La probabilidad de que una aguja atraviese una linea horizontal con el lanzamiento de 100 agujas es: 0.64\n",
      "La probabilidad de que una aguja atraviese una linea horizontal con el lanzamiento de 1000 agujas es: 0.644\n",
      "La probabilidad de que una aguja atraviese una linea horizontal con el lanzamiento de 10000 agujas es: 0.6331\n",
      "La probabilidad de que una aguja atraviese una linea horizontal con el lanzamiento de 100000 agujas es: 0.63907\n"
     ]
    }
   ],
   "source": [
    "import random\n",
    "import math\n",
    "\n",
    "def simulacion(lanzamientos,espacio_lineas):\n",
    "    #Variable que guardara los casos existosos\n",
    "    exitosos = 0\n",
    "    for i in range(lanzamientos):\n",
    "        #Se simula el lanzamiento definiendo aleatoriamente el centro de masa y el angulo\n",
    "        centro_masaY = random.uniform(0,20)\n",
    "        centro_masaX = random.uniform(0,20)\n",
    "        angulo = random.uniform(0,math.pi/2)\n",
    "        #Se obtiene la parte decimal de la coordenada Y\n",
    "        decimal = (centro_masaY - int(centro_masaY))\n",
    "        #Si la parte decimal es mayor a la mitad del espacio entre las lineas, significa que el centro de masa es mas cercano a la linea superior\n",
    "        if decimal >= espacio_lineas/2.0:\n",
    "            #Se calcula la distancia de la linea superior al centro de masa\n",
    "            distancia = 1-decimal\n",
    "            #Se ve si la aguja cruza la linea utilizando trigonometria\n",
    "            if distancia < 0.5*math.sin(angulo):\n",
    "                exitosos+=1\n",
    "        #Si la distancia es menor a la mitad del espacio entre las lineas, entonces, el centro de masa esta mas cercano a la linea inferior\n",
    "        elif decimal < espacio_lineas/2.0:\n",
    "            if decimal < 0.5*math.sin(angulo):\n",
    "                exitosos+=1           \n",
    "    return exitosos/lanzamientos\n",
    "\n",
    "print('Si el experimento se realiza 5 veces se obtienen los siguientes resultados')\n",
    "for i in range(5):\n",
    "    print('EXPERIMENTO', i+1)\n",
    "    print('La probabilidad de que una aguja atraviese una linea horizontal con el lanzamiento de 10 agujas es:',simulacion(10,1))\n",
    "    print('La probabilidad de que una aguja atraviese una linea horizontal con el lanzamiento de 100 agujas es:',simulacion(100,1))\n",
    "    print('La probabilidad de que una aguja atraviese una linea horizontal con el lanzamiento de 1000 agujas es:',simulacion(1000,1))\n",
    "    print('La probabilidad de que una aguja atraviese una linea horizontal con el lanzamiento de 10000 agujas es:',simulacion(10000,1))\n",
    "    print('La probabilidad de que una aguja atraviese una linea horizontal con el lanzamiento de 100000 agujas es:',simulacion(100000,1))\n",
    "\n",
    "\n"
   ]
  },
  {
   "cell_type": "markdown",
   "metadata": {},
   "source": [
    "### Respuesta pregunta 2\n",
    "Si el experimento se realiza varias veces, se observa que la probabilidad de que una aguja atraviese una de las lineas horizontales, es aproximadamente 63%\n"
   ]
  },
  {
   "cell_type": "markdown",
   "metadata": {},
   "source": [
    "### 2.2 Cadenas de Markov (40p)\n",
    "\n",
    "Las cadenas de markov son un modelo estocástico para describir una secuencia de sucesos donde la probabilidad de ir a un estado siguiente depende solamente del estado actual, esto se puede modelar de la siguiente forma:\n",
    "\n",
    "$$ S_{n+1} = S_{n}\\cdot P$$\n",
    "\n",
    "Donde $P$ se conoce como matriz de transición y $S_{i}$ las matrices de estado ($S_{0}$ es conocida). Una cadena de markov se dice regular si su matriz de transición es regular, esto quiere decir que alguna potencia de $P$ tiene todas sus entradas positivas (para este caso 0 no es positivo).\n",
    "\n",
    "Si se tiene una cadena de markov regular, en algún momento de la secuencia se encontrará una matriz de estado tal que:\n",
    "\n",
    "$$ S_{f} \\cdot P = S_{f}$$ \n",
    "\n",
    "A esta matriz $S_{f}$ se le conoce como matriz estacionaria.\n",
    "\n",
    "Si desea profundizar más:\n",
    "- [MC 1](https://www.youtube.com/watch?v=uvYTGEZQTEs)\n",
    "- [MC 2](https://www.youtube.com/watch?v=jtHBfLtMq4U)\n",
    "- [MC 3](https://www.youtube.com/watch?v=P8DuuiINAo4&t)\n",
    "- [MC 4](https://www.youtube.com/watch?v=31X-M4okAI0)\n",
    "- [MC 5](https://www.youtube.com/watch?v=-kwnnNSGFMc)\n",
    "\n",
    "\n",
    "**Enunciado**\n",
    "\n",
    "Tres compañías de comida rápida están compitiendo por el primer lugar en la supremacía de comida rápida. \n",
    "\n",
    "* Si un cliente originalmente es fiel a \"Sansafood\" tiene un $65\\%$ de probabilidad de quedarse fiel a esta, un $20\\%$ de cambiarse a \"LDS ltda\" y un $15\\%$ de cambiarse a \"Wenzi's\".\n",
    "\n",
    "* Si un cliente originalmente es fiel a \"LDS ltda\" tiene un $40\\%$ de probabilidad de quedarse fiel a esta, un $30\\%$ de cambiarse a \"Sansafood\" y un $30\\%$ de cambiarse a \"Wenzi's\".\n",
    "\n",
    "* Si un cliente originalmente es fiel a \"Wenzi's\" tiene un $70\\%$ de probabilidad de quedarse fiel a esta, un $10\\%$ de cambiarse a \"Sansafood\" y un $20\\%$ de cambiarse a \"LDS ltda\".\n",
    "\n",
    "En un comienzo 200 clientes pertenecen a \"Sansafood\", 180 a \"LDS ltda\" y 20 a \"Wenzi's\".\n",
    "\n",
    ">a) Identifique la matriz de transición y la matriz de estado inicial"
   ]
  },
  {
   "cell_type": "markdown",
   "metadata": {},
   "source": [
    "### Código pregunta 3.a"
   ]
  },
  {
   "cell_type": "code",
   "execution_count": 3,
   "metadata": {},
   "outputs": [
    {
     "name": "stdout",
     "output_type": "stream",
     "text": [
      "La matriz de transicion correspode a:\n"
     ]
    },
    {
     "data": {
      "text/html": [
       "<div>\n",
       "<style scoped>\n",
       "    .dataframe tbody tr th:only-of-type {\n",
       "        vertical-align: middle;\n",
       "    }\n",
       "\n",
       "    .dataframe tbody tr th {\n",
       "        vertical-align: top;\n",
       "    }\n",
       "\n",
       "    .dataframe thead th {\n",
       "        text-align: right;\n",
       "    }\n",
       "</style>\n",
       "<table border=\"1\" class=\"dataframe\">\n",
       "  <thead>\n",
       "    <tr style=\"text-align: right;\">\n",
       "      <th></th>\n",
       "      <th>Sansafood</th>\n",
       "      <th>LDS ltda</th>\n",
       "      <th>Wenzis</th>\n",
       "    </tr>\n",
       "  </thead>\n",
       "  <tbody>\n",
       "    <tr>\n",
       "      <th>Sansafood</th>\n",
       "      <td>0.65</td>\n",
       "      <td>0.2</td>\n",
       "      <td>0.15</td>\n",
       "    </tr>\n",
       "    <tr>\n",
       "      <th>LDS ltda</th>\n",
       "      <td>0.30</td>\n",
       "      <td>0.4</td>\n",
       "      <td>0.30</td>\n",
       "    </tr>\n",
       "    <tr>\n",
       "      <th>Wenzis</th>\n",
       "      <td>0.10</td>\n",
       "      <td>0.2</td>\n",
       "      <td>0.70</td>\n",
       "    </tr>\n",
       "  </tbody>\n",
       "</table>\n",
       "</div>"
      ],
      "text/plain": [
       "           Sansafood  LDS ltda  Wenzis\n",
       "Sansafood       0.65       0.2    0.15\n",
       "LDS ltda        0.30       0.4    0.30\n",
       "Wenzis          0.10       0.2    0.70"
      ]
     },
     "execution_count": 3,
     "metadata": {},
     "output_type": "execute_result"
    }
   ],
   "source": [
    "import numpy as np\n",
    "import pandas\n",
    "\n",
    "#Se crea la matriz de transicion\n",
    "transicion = np.array([\n",
    "    [0.65,0.2,0.15],\n",
    "    [0.3,0.4,0.3],\n",
    "    [0.1,0.2,0.7]\n",
    "])\n",
    "\n",
    "#Se crea la matriz inicial\n",
    "inicial = np.array([\n",
    "    [0.5,0.45,0.05]\n",
    "])\n",
    "\n",
    "#Se define la descripcion de cada fila y columna de la matriz\n",
    "titulos = ['Sansafood', 'LDS ltda', 'Wenzis']\n",
    "\n",
    "#Se muestra la matriz\n",
    "print('La matriz de transicion correspode a:')\n",
    "matriz_transicion = pandas.DataFrame(transicion, columns=titulos, index=titulos)\n",
    "matriz_transicion"
   ]
  },
  {
   "cell_type": "code",
   "execution_count": 2,
   "metadata": {},
   "outputs": [
    {
     "name": "stdout",
     "output_type": "stream",
     "text": [
      "La matriz inicial corrsponde a\n"
     ]
    },
    {
     "data": {
      "text/html": [
       "<div>\n",
       "<style scoped>\n",
       "    .dataframe tbody tr th:only-of-type {\n",
       "        vertical-align: middle;\n",
       "    }\n",
       "\n",
       "    .dataframe tbody tr th {\n",
       "        vertical-align: top;\n",
       "    }\n",
       "\n",
       "    .dataframe thead th {\n",
       "        text-align: right;\n",
       "    }\n",
       "</style>\n",
       "<table border=\"1\" class=\"dataframe\">\n",
       "  <thead>\n",
       "    <tr style=\"text-align: right;\">\n",
       "      <th></th>\n",
       "      <th>Sansafood</th>\n",
       "      <th>LDS ltda</th>\n",
       "      <th>Wenzis</th>\n",
       "    </tr>\n",
       "  </thead>\n",
       "  <tbody>\n",
       "    <tr>\n",
       "      <th></th>\n",
       "      <td>0.5</td>\n",
       "      <td>0.45</td>\n",
       "      <td>0.05</td>\n",
       "    </tr>\n",
       "  </tbody>\n",
       "</table>\n",
       "</div>"
      ],
      "text/plain": [
       "  Sansafood  LDS ltda  Wenzis\n",
       "        0.5      0.45    0.05"
      ]
     },
     "execution_count": 2,
     "metadata": {},
     "output_type": "execute_result"
    }
   ],
   "source": [
    "print('La matriz inicial corrsponde a')\n",
    "matriz_inicial = pandas.DataFrame(inicial, columns=titulos, index = [''])\n",
    "matriz_inicial"
   ]
  },
  {
   "cell_type": "markdown",
   "metadata": {},
   "source": [
    "### Respuesta pregunta 3.a\n",
    "Las matrices obtenidas fueron las siguientes:\n",
    "\n",
    "#### Matriz de transición \n",
    "\n",
    " --- |Sansafood | LDS ltda | Wenzi's\n",
    "--- | --- | --- | ---\n",
    " **Sansafood** |0.65 | 0.2 | 0.15\n",
    " **LDS Itda** |0.3 | 0.4 | 0.3\n",
    " **Wenzi's** |0.1 | 0.2 | 0.7\n",
    "\n",
    "#### Matriz inicial\n",
    "\n",
    "Sansafood | LDS ltda | Wenzi's\n",
    "--- | --- | ---\n",
    "0.5 | 0.45 | 0.05"
   ]
  },
  {
   "cell_type": "markdown",
   "metadata": {},
   "source": [
    ">**O:** b) Haga un diagrama de transición "
   ]
  },
  {
   "cell_type": "markdown",
   "metadata": {},
   "source": [
    "### Respuesta pregunta 3.d\n",
    "<img src=\"img/diagrama_3c.png\">"
   ]
  },
  {
   "cell_type": "markdown",
   "metadata": {},
   "source": [
    ">**O:** c) ¿Este problema es un caso de una cadena de markov regular? ¿Por qué?"
   ]
  },
  {
   "cell_type": "markdown",
   "metadata": {},
   "source": [
    "### Respuesta pregunta 3.c\n",
    "Si es un caso de cadena de markov regular, pues la matriz de transición es regular (todas sus entradas son positivas)"
   ]
  },
  {
   "cell_type": "markdown",
   "metadata": {},
   "source": [
    ">d) ¿Existirá la matriz estacionaria en este caso? Si su respuesta es sí, obténgala."
   ]
  },
  {
   "cell_type": "markdown",
   "metadata": {},
   "source": [
    "### Código pregunta 3.d"
   ]
  },
  {
   "cell_type": "code",
   "execution_count": 4,
   "metadata": {},
   "outputs": [
    {
     "ename": "KeyboardInterrupt",
     "evalue": "",
     "output_type": "error",
     "traceback": [
      "\u001b[1;31m---------------------------------------------------------------------------\u001b[0m",
      "\u001b[1;31mKeyboardInterrupt\u001b[0m                         Traceback (most recent call last)",
      "\u001b[1;32m<ipython-input-4-9ada9a27de9a>\u001b[0m in \u001b[0;36m<module>\u001b[1;34m\u001b[0m\n\u001b[0;32m      2\u001b[0m \u001b[0mflag\u001b[0m \u001b[1;33m=\u001b[0m \u001b[1;32mTrue\u001b[0m\u001b[1;33m\u001b[0m\u001b[1;33m\u001b[0m\u001b[0m\n\u001b[0;32m      3\u001b[0m \u001b[1;32mwhile\u001b[0m \u001b[0mflag\u001b[0m\u001b[1;33m:\u001b[0m\u001b[1;33m\u001b[0m\u001b[1;33m\u001b[0m\u001b[0m\n\u001b[1;32m----> 4\u001b[1;33m     \u001b[0mestacionaria\u001b[0m \u001b[1;33m=\u001b[0m \u001b[0mnp\u001b[0m\u001b[1;33m.\u001b[0m\u001b[0mmatmul\u001b[0m\u001b[1;33m(\u001b[0m\u001b[0minicial\u001b[0m\u001b[1;33m,\u001b[0m\u001b[0mtransicion\u001b[0m\u001b[1;33m)\u001b[0m\u001b[1;33m\u001b[0m\u001b[1;33m\u001b[0m\u001b[0m\n\u001b[0m\u001b[0;32m      5\u001b[0m     \u001b[1;31m#Si ambos arreglos son iguales, significa que se encontro la matriz estacionaria\u001b[0m\u001b[1;33m\u001b[0m\u001b[1;33m\u001b[0m\u001b[1;33m\u001b[0m\u001b[0m\n\u001b[0;32m      6\u001b[0m     \u001b[1;32mif\u001b[0m \u001b[0mnp\u001b[0m\u001b[1;33m.\u001b[0m\u001b[0marray_equal\u001b[0m\u001b[1;33m(\u001b[0m\u001b[0mestacionaria\u001b[0m\u001b[1;33m,\u001b[0m\u001b[0minicial\u001b[0m\u001b[1;33m)\u001b[0m\u001b[1;33m:\u001b[0m\u001b[1;33m\u001b[0m\u001b[1;33m\u001b[0m\u001b[0m\n",
      "\u001b[1;31mKeyboardInterrupt\u001b[0m: "
     ]
    }
   ],
   "source": [
    "#Se crea un flag para finalizar el while una vez encontrada la matriz, pues se sabe que existe al ser una cadena de markov regular\n",
    "flag = True\n",
    "while flag:\n",
    "    estacionaria = np.matmul(inicial,transicion)\n",
    "    #Si ambos arreglos son iguales, significa que se encontro la matriz estacionaria\n",
    "    if np.array_equal(estacionaria,inicial):\n",
    "        flag = False\n",
    "print('La matriz estacionaria corresponde a:')\n",
    "matriz_inicial = pandas.DataFrame(estacionaria, columns=titulos, index = [''])\n",
    "matriz_inicial"
   ]
  },
  {
   "cell_type": "markdown",
   "metadata": {},
   "source": [
    "### Respuesta pregunta 3.d\n",
    "Si existe una matiz estacionaria ya que este caso pertenece a una cadena de markov regular, y la matriz corresponde a:\n",
    "\n",
    "Sansafood | LDS ltda | Wenzi's\n",
    "--- | --- | ---\n",
    "0.33333333 | 0.25 | 0.416666667\n"
   ]
  },
  {
   "cell_type": "markdown",
   "metadata": {},
   "source": [
    ">e) Después de pasado mucho tiempo. ¿Quién tendrá una mayor cantidad de clientes? Asuma que la matriz de transición será válida por todo este periodo arbitrario de tiempo y no llegarán ni saldrán más clientes del mundo de comida rápida. **No realice esta simulación como una multiplicación de matrices**, use las probabilidades y las cantidades dadas. Compare con d) "
   ]
  },
  {
   "cell_type": "code",
   "execution_count": 7,
   "metadata": {},
   "outputs": [
    {
     "name": "stdout",
     "output_type": "stream",
     "text": [
      "La matriz luego de haber pasado mucho tiempo corresponde a:\n"
     ]
    },
    {
     "data": {
      "text/html": [
       "<div>\n",
       "<style scoped>\n",
       "    .dataframe tbody tr th:only-of-type {\n",
       "        vertical-align: middle;\n",
       "    }\n",
       "\n",
       "    .dataframe tbody tr th {\n",
       "        vertical-align: top;\n",
       "    }\n",
       "\n",
       "    .dataframe thead th {\n",
       "        text-align: right;\n",
       "    }\n",
       "</style>\n",
       "<table border=\"1\" class=\"dataframe\">\n",
       "  <thead>\n",
       "    <tr style=\"text-align: right;\">\n",
       "      <th></th>\n",
       "      <th>Sansafood</th>\n",
       "      <th>LDS ltda</th>\n",
       "      <th>Wenzis</th>\n",
       "    </tr>\n",
       "  </thead>\n",
       "  <tbody>\n",
       "    <tr>\n",
       "      <th></th>\n",
       "      <td>0.3125</td>\n",
       "      <td>0.2625</td>\n",
       "      <td>0.425</td>\n",
       "    </tr>\n",
       "  </tbody>\n",
       "</table>\n",
       "</div>"
      ],
      "text/plain": [
       "  Sansafood  LDS ltda  Wenzis\n",
       "     0.3125    0.2625   0.425"
      ]
     },
     "execution_count": 7,
     "metadata": {},
     "output_type": "execute_result"
    }
   ],
   "source": [
    "#Arreglo que tiene la cantidad de personas por local de comida\n",
    "personas = np.array([\n",
    "    [200,180,20]\n",
    "])\n",
    "\n",
    "#Escoge segun las probabilidades las personas que se quedaran en sansafood, o que se iran a otro local, retorna un diccionario con la cantidad de personas que se quedaron en Sansafood, las cantidad de personas que se fueron a LDS ltda y las que se fueron a Wenzis\n",
    "def sansafood(pers):\n",
    "    cambios = {'Sansafood':0,'LDS ltda':0,'Wenzis':0}\n",
    "    #Se itera segun la cantidad de personas en Sansafood\n",
    "    for i in range(pers[0][0]):\n",
    "        #Se escge segun las probabilidades dadas entre Sansafood, LDS ltda y Wenzis, estando en Sansafood\n",
    "        cambio = np.random.choice(titulos,p = [0.65,0.2,0.15])\n",
    "        cambios[cambio] +=1\n",
    "    return cambios\n",
    "\n",
    "\n",
    "#Escoge segun las probabilidades las personas que se quedaran en Lds ltda, o que se iran a otro local, retorna un diccionario con la cantidad de personas que se quedaron en Lds ltda, las cantidad de personas que se fueron a Sansafood y las que se fueron a Wenzis\n",
    "def lds(pers):\n",
    "    cambios = {'Sansafood':0,'LDS ltda':0,'Wenzis':0}\n",
    "    #Se itera segun la cantidad de personas en LDS ltda\n",
    "    for i in range(pers[0][1]):\n",
    "         #Se escge segun las probabilidades dadas entre Sansafood, LDS ltda y Wenzis, estando en LDS ltda\n",
    "        cambio = np.random.choice(titulos,p = [0.3,0.4,0.3])\n",
    "        cambios[cambio] +=1\n",
    "    return cambios\n",
    "\n",
    "#Escoge segun las probabilidades las personas que se quedaran en Wenzis, o que se iran a otro local, retorna un diccionario con la cantidad de personas que se quedaron en Wenzis, las cantidad de personas que se fueron a Sansafood y las que se fueron a Lds ltda\n",
    "def wenzis(pers):\n",
    "    cambios = {'Sansafood':0,'LDS ltda':0,'Wenzis':0}\n",
    "    #Se itera segun la cantidad de personas en Wenzis\n",
    "    for i in range(pers[0][2]):\n",
    "         #Se escge segun las probabilidades dadas entre Sansafood, LDS ltda y Wenzis, estando en Wenzis\n",
    "        cambio = np.random.choice(titulos,p = [0.1,0.2,0.7])\n",
    "        cambios[cambio] +=1\n",
    "    return cambios\n",
    "\n",
    "#Se simula lo que pasaria en 1000 unidades de tiempo\n",
    "for i in range(1000):\n",
    "    cambio1 = sansafood(personas)\n",
    "    cambio2 = lds(personas)\n",
    "    cambio3 = wenzis(personas)\n",
    "    #Se actualiza la matriz con la cantidad de personas segun lo obtenido por cada funcion\n",
    "    personas[0][0] = cambio1['Sansafood']+cambio2['Sansafood']+cambio3['Sansafood']\n",
    "    personas[0][1] = cambio1['LDS ltda']+cambio2['LDS ltda']+cambio3['LDS ltda']\n",
    "    personas[0][2] = cambio1['Wenzis']+cambio2['Wenzis']+cambio3['Wenzis']\n",
    "\n",
    "estacionaria2 = personas/400\n",
    "print('La matriz luego de haber pasado mucho tiempo corresponde a:')\n",
    "est2 = pandas.DataFrame(estacionaria2, columns=titulos, index = [''])\n",
    "est2"
   ]
  },
  {
   "cell_type": "markdown",
   "metadata": {},
   "source": [
    "### Respuesta pregunta 3.e\n",
    "Tras haber pasado mucho tiempo, y asumiendo que la matriz de transición es constante en todo ese período, la matriz obtenida luego de la simulación fue la siguiente:\n",
    "\n",
    "Sansafood | LDS ltda | Wenzi's\n",
    "--- | --- | ---\n",
    "0.3125 | 0.2625 | 0.425\n",
    "\n",
    "La cual se asemeja enormemente a la matriz estacionaria obtenida de manera teórica en la \"pregunta d\", por lo que se puede afirmar que el cálculo teórico realizado, efectivamente es una buena representación de la realidad obviando todas las suposiciones realizadas (matriz de transición constante y cantidad de clientes constante). \n",
    "\n",
    "Si se analizan los datos obtenidos, vemos que pasado mucho tiempo, el 31.25% de las personas aproximadamente (125 personas), preferirá “Sansafood” , el 26,25% (105 personas), “LDS ltda”, y el 42,5% (170 personas) preferirá “Wenzi’s”, concluyendo que la compañía de comida rápida que mayor cantidad de clientes tendrá, será “Wenzi’s”."
   ]
  },
  {
   "cell_type": "markdown",
   "metadata": {},
   "source": [
    "## Reglas del Juego y Comentarios \n",
    "\n",
    "+ Errores ortográficos, de redacción y oraciones ambiguas descontarán parte de su puntaje.\n",
    "+ Dudas solamente hasta el  día 31 de Marzo a las 23hrs.\n",
    "+ Dudas **principalmente** vía moodle, evite otro tipo de medio ya que su duda podría ser la de otro.\n",
    "+ Cada día de atraso descuenta 25 puntos de la nota final con un máximo de dos días de retraso (después es 0).\n",
    "+ La versión de R que se usará para revisar es 3.5.2\n",
    "+ La versión de Python que se usará para revisar es 3.6.8\n",
    "+ Los alumnos malla nueva que decidan responder las preguntas opcionales (obviando algún bonus para todos) tendrán 1 punto bonus por pregunta correctamente respondida, con un máximo de nota 100.\n",
    "+ Use cualquier librería que estime conveniente, si requiere de instalación explicitarlo en el README (y bien explicitado).\n",
    "+ Código comentado para facilitar entendimiento.\n",
    "+ Sea formal y claro con su respuesta, explique su procedimiento y luego responda. \n",
    "+ Defina bien las secciones de su notebook, el orden siempre es bueno :) [Tips para usar Markdown](https://github.com/adam-p/markdown-here/wiki/Markdown-Cheatsheet)"
   ]
  }
 ],
 "metadata": {
  "kernelspec": {
   "display_name": "Python 3",
   "language": "python",
   "name": "python3"
  },
  "language_info": {
   "codemirror_mode": {
    "name": "ipython",
    "version": 3
   },
   "file_extension": ".py",
   "mimetype": "text/x-python",
   "name": "python",
   "nbconvert_exporter": "python",
   "pygments_lexer": "ipython3",
   "version": "3.7.1"
  }
 },
 "nbformat": 4,
 "nbformat_minor": 2
}
